{
  "nbformat": 4,
  "nbformat_minor": 0,
  "metadata": {
    "colab": {
      "provenance": [],
      "mount_file_id": "1l4a84dw-jantFVR8CaE7zF7NHM4znnLq",
      "authorship_tag": "ABX9TyPl/AbRcP0d1vBdmDJ5K8F5"
    },
    "kernelspec": {
      "name": "python3",
      "display_name": "Python 3"
    },
    "language_info": {
      "name": "python"
    }
  },
  "cells": [
    {
      "cell_type": "code",
      "execution_count": 13,
      "metadata": {
        "id": "kxjmbuJboqFd"
      },
      "outputs": [],
      "source": [
        "import numpy as np\n",
        "import pandas as pd\n",
        "from matplotlib import pyplot as plt\n",
        "import scipy\n",
        "\n",
        "from sklearn.model_selection import train_test_split\n",
        "from sklearn.svm import SVC\n",
        "from sklearn.tree import DecisionTreeClassifier\n",
        "from sklearn.ensemble import RandomForestClassifier\n",
        "from sklearn.metrics import classification_report"
      ]
    },
    {
      "cell_type": "code",
      "source": [
        "covid_dataset = pd.read_csv('/content/drive/MyDrive/Data Projects/Covid-19/Covid Data.csv')"
      ],
      "metadata": {
        "id": "KURkhQYYowB4"
      },
      "execution_count": 2,
      "outputs": []
    },
    {
      "cell_type": "code",
      "source": [
        "covid_dataset.head()"
      ],
      "metadata": {
        "colab": {
          "base_uri": "https://localhost:8080/",
          "height": 300
        },
        "id": "2xJVbstgowFw",
        "outputId": "7ccc3d95-2daa-441b-fda5-767bd8a2c1bb"
      },
      "execution_count": 3,
      "outputs": [
        {
          "output_type": "execute_result",
          "data": {
            "text/plain": [
              "   USMER  MEDICAL_UNIT  SEX  PATIENT_TYPE   DATE_DIED  INTUBED  PNEUMONIA  \\\n",
              "0      2             1    1             1  03/05/2020       97          1   \n",
              "1      2             1    2             1  03/06/2020       97          1   \n",
              "2      2             1    2             2  09/06/2020        1          2   \n",
              "3      2             1    1             1  12/06/2020       97          2   \n",
              "4      2             1    2             1  21/06/2020       97          2   \n",
              "\n",
              "   AGE  PREGNANT  DIABETES  ...  ASTHMA  INMSUPR  HIPERTENSION  OTHER_DISEASE  \\\n",
              "0   65         2         2  ...       2        2             1              2   \n",
              "1   72        97         2  ...       2        2             1              2   \n",
              "2   55        97         1  ...       2        2             2              2   \n",
              "3   53         2         2  ...       2        2             2              2   \n",
              "4   68        97         1  ...       2        2             1              2   \n",
              "\n",
              "   CARDIOVASCULAR  OBESITY  RENAL_CHRONIC  TOBACCO  CLASIFFICATION_FINAL  ICU  \n",
              "0               2        2              2        2                     3   97  \n",
              "1               2        1              1        2                     5   97  \n",
              "2               2        2              2        2                     3    2  \n",
              "3               2        2              2        2                     7   97  \n",
              "4               2        2              2        2                     3   97  \n",
              "\n",
              "[5 rows x 21 columns]"
            ],
            "text/html": [
              "\n",
              "  <div id=\"df-e69ac8a6-9369-43c9-a9ad-4e9ee59c8f30\">\n",
              "    <div class=\"colab-df-container\">\n",
              "      <div>\n",
              "<style scoped>\n",
              "    .dataframe tbody tr th:only-of-type {\n",
              "        vertical-align: middle;\n",
              "    }\n",
              "\n",
              "    .dataframe tbody tr th {\n",
              "        vertical-align: top;\n",
              "    }\n",
              "\n",
              "    .dataframe thead th {\n",
              "        text-align: right;\n",
              "    }\n",
              "</style>\n",
              "<table border=\"1\" class=\"dataframe\">\n",
              "  <thead>\n",
              "    <tr style=\"text-align: right;\">\n",
              "      <th></th>\n",
              "      <th>USMER</th>\n",
              "      <th>MEDICAL_UNIT</th>\n",
              "      <th>SEX</th>\n",
              "      <th>PATIENT_TYPE</th>\n",
              "      <th>DATE_DIED</th>\n",
              "      <th>INTUBED</th>\n",
              "      <th>PNEUMONIA</th>\n",
              "      <th>AGE</th>\n",
              "      <th>PREGNANT</th>\n",
              "      <th>DIABETES</th>\n",
              "      <th>...</th>\n",
              "      <th>ASTHMA</th>\n",
              "      <th>INMSUPR</th>\n",
              "      <th>HIPERTENSION</th>\n",
              "      <th>OTHER_DISEASE</th>\n",
              "      <th>CARDIOVASCULAR</th>\n",
              "      <th>OBESITY</th>\n",
              "      <th>RENAL_CHRONIC</th>\n",
              "      <th>TOBACCO</th>\n",
              "      <th>CLASIFFICATION_FINAL</th>\n",
              "      <th>ICU</th>\n",
              "    </tr>\n",
              "  </thead>\n",
              "  <tbody>\n",
              "    <tr>\n",
              "      <th>0</th>\n",
              "      <td>2</td>\n",
              "      <td>1</td>\n",
              "      <td>1</td>\n",
              "      <td>1</td>\n",
              "      <td>03/05/2020</td>\n",
              "      <td>97</td>\n",
              "      <td>1</td>\n",
              "      <td>65</td>\n",
              "      <td>2</td>\n",
              "      <td>2</td>\n",
              "      <td>...</td>\n",
              "      <td>2</td>\n",
              "      <td>2</td>\n",
              "      <td>1</td>\n",
              "      <td>2</td>\n",
              "      <td>2</td>\n",
              "      <td>2</td>\n",
              "      <td>2</td>\n",
              "      <td>2</td>\n",
              "      <td>3</td>\n",
              "      <td>97</td>\n",
              "    </tr>\n",
              "    <tr>\n",
              "      <th>1</th>\n",
              "      <td>2</td>\n",
              "      <td>1</td>\n",
              "      <td>2</td>\n",
              "      <td>1</td>\n",
              "      <td>03/06/2020</td>\n",
              "      <td>97</td>\n",
              "      <td>1</td>\n",
              "      <td>72</td>\n",
              "      <td>97</td>\n",
              "      <td>2</td>\n",
              "      <td>...</td>\n",
              "      <td>2</td>\n",
              "      <td>2</td>\n",
              "      <td>1</td>\n",
              "      <td>2</td>\n",
              "      <td>2</td>\n",
              "      <td>1</td>\n",
              "      <td>1</td>\n",
              "      <td>2</td>\n",
              "      <td>5</td>\n",
              "      <td>97</td>\n",
              "    </tr>\n",
              "    <tr>\n",
              "      <th>2</th>\n",
              "      <td>2</td>\n",
              "      <td>1</td>\n",
              "      <td>2</td>\n",
              "      <td>2</td>\n",
              "      <td>09/06/2020</td>\n",
              "      <td>1</td>\n",
              "      <td>2</td>\n",
              "      <td>55</td>\n",
              "      <td>97</td>\n",
              "      <td>1</td>\n",
              "      <td>...</td>\n",
              "      <td>2</td>\n",
              "      <td>2</td>\n",
              "      <td>2</td>\n",
              "      <td>2</td>\n",
              "      <td>2</td>\n",
              "      <td>2</td>\n",
              "      <td>2</td>\n",
              "      <td>2</td>\n",
              "      <td>3</td>\n",
              "      <td>2</td>\n",
              "    </tr>\n",
              "    <tr>\n",
              "      <th>3</th>\n",
              "      <td>2</td>\n",
              "      <td>1</td>\n",
              "      <td>1</td>\n",
              "      <td>1</td>\n",
              "      <td>12/06/2020</td>\n",
              "      <td>97</td>\n",
              "      <td>2</td>\n",
              "      <td>53</td>\n",
              "      <td>2</td>\n",
              "      <td>2</td>\n",
              "      <td>...</td>\n",
              "      <td>2</td>\n",
              "      <td>2</td>\n",
              "      <td>2</td>\n",
              "      <td>2</td>\n",
              "      <td>2</td>\n",
              "      <td>2</td>\n",
              "      <td>2</td>\n",
              "      <td>2</td>\n",
              "      <td>7</td>\n",
              "      <td>97</td>\n",
              "    </tr>\n",
              "    <tr>\n",
              "      <th>4</th>\n",
              "      <td>2</td>\n",
              "      <td>1</td>\n",
              "      <td>2</td>\n",
              "      <td>1</td>\n",
              "      <td>21/06/2020</td>\n",
              "      <td>97</td>\n",
              "      <td>2</td>\n",
              "      <td>68</td>\n",
              "      <td>97</td>\n",
              "      <td>1</td>\n",
              "      <td>...</td>\n",
              "      <td>2</td>\n",
              "      <td>2</td>\n",
              "      <td>1</td>\n",
              "      <td>2</td>\n",
              "      <td>2</td>\n",
              "      <td>2</td>\n",
              "      <td>2</td>\n",
              "      <td>2</td>\n",
              "      <td>3</td>\n",
              "      <td>97</td>\n",
              "    </tr>\n",
              "  </tbody>\n",
              "</table>\n",
              "<p>5 rows × 21 columns</p>\n",
              "</div>\n",
              "      <button class=\"colab-df-convert\" onclick=\"convertToInteractive('df-e69ac8a6-9369-43c9-a9ad-4e9ee59c8f30')\"\n",
              "              title=\"Convert this dataframe to an interactive table.\"\n",
              "              style=\"display:none;\">\n",
              "        \n",
              "  <svg xmlns=\"http://www.w3.org/2000/svg\" height=\"24px\"viewBox=\"0 0 24 24\"\n",
              "       width=\"24px\">\n",
              "    <path d=\"M0 0h24v24H0V0z\" fill=\"none\"/>\n",
              "    <path d=\"M18.56 5.44l.94 2.06.94-2.06 2.06-.94-2.06-.94-.94-2.06-.94 2.06-2.06.94zm-11 1L8.5 8.5l.94-2.06 2.06-.94-2.06-.94L8.5 2.5l-.94 2.06-2.06.94zm10 10l.94 2.06.94-2.06 2.06-.94-2.06-.94-.94-2.06-.94 2.06-2.06.94z\"/><path d=\"M17.41 7.96l-1.37-1.37c-.4-.4-.92-.59-1.43-.59-.52 0-1.04.2-1.43.59L10.3 9.45l-7.72 7.72c-.78.78-.78 2.05 0 2.83L4 21.41c.39.39.9.59 1.41.59.51 0 1.02-.2 1.41-.59l7.78-7.78 2.81-2.81c.8-.78.8-2.07 0-2.86zM5.41 20L4 18.59l7.72-7.72 1.47 1.35L5.41 20z\"/>\n",
              "  </svg>\n",
              "      </button>\n",
              "      \n",
              "  <style>\n",
              "    .colab-df-container {\n",
              "      display:flex;\n",
              "      flex-wrap:wrap;\n",
              "      gap: 12px;\n",
              "    }\n",
              "\n",
              "    .colab-df-convert {\n",
              "      background-color: #E8F0FE;\n",
              "      border: none;\n",
              "      border-radius: 50%;\n",
              "      cursor: pointer;\n",
              "      display: none;\n",
              "      fill: #1967D2;\n",
              "      height: 32px;\n",
              "      padding: 0 0 0 0;\n",
              "      width: 32px;\n",
              "    }\n",
              "\n",
              "    .colab-df-convert:hover {\n",
              "      background-color: #E2EBFA;\n",
              "      box-shadow: 0px 1px 2px rgba(60, 64, 67, 0.3), 0px 1px 3px 1px rgba(60, 64, 67, 0.15);\n",
              "      fill: #174EA6;\n",
              "    }\n",
              "\n",
              "    [theme=dark] .colab-df-convert {\n",
              "      background-color: #3B4455;\n",
              "      fill: #D2E3FC;\n",
              "    }\n",
              "\n",
              "    [theme=dark] .colab-df-convert:hover {\n",
              "      background-color: #434B5C;\n",
              "      box-shadow: 0px 1px 3px 1px rgba(0, 0, 0, 0.15);\n",
              "      filter: drop-shadow(0px 1px 2px rgba(0, 0, 0, 0.3));\n",
              "      fill: #FFFFFF;\n",
              "    }\n",
              "  </style>\n",
              "\n",
              "      <script>\n",
              "        const buttonEl =\n",
              "          document.querySelector('#df-e69ac8a6-9369-43c9-a9ad-4e9ee59c8f30 button.colab-df-convert');\n",
              "        buttonEl.style.display =\n",
              "          google.colab.kernel.accessAllowed ? 'block' : 'none';\n",
              "\n",
              "        async function convertToInteractive(key) {\n",
              "          const element = document.querySelector('#df-e69ac8a6-9369-43c9-a9ad-4e9ee59c8f30');\n",
              "          const dataTable =\n",
              "            await google.colab.kernel.invokeFunction('convertToInteractive',\n",
              "                                                     [key], {});\n",
              "          if (!dataTable) return;\n",
              "\n",
              "          const docLinkHtml = 'Like what you see? Visit the ' +\n",
              "            '<a target=\"_blank\" href=https://colab.research.google.com/notebooks/data_table.ipynb>data table notebook</a>'\n",
              "            + ' to learn more about interactive tables.';\n",
              "          element.innerHTML = '';\n",
              "          dataTable['output_type'] = 'display_data';\n",
              "          await google.colab.output.renderOutput(dataTable, element);\n",
              "          const docLink = document.createElement('div');\n",
              "          docLink.innerHTML = docLinkHtml;\n",
              "          element.appendChild(docLink);\n",
              "        }\n",
              "      </script>\n",
              "    </div>\n",
              "  </div>\n",
              "  "
            ]
          },
          "metadata": {},
          "execution_count": 3
        }
      ]
    },
    {
      "cell_type": "code",
      "source": [
        "covid_dataset.info()"
      ],
      "metadata": {
        "colab": {
          "base_uri": "https://localhost:8080/"
        },
        "id": "bN-ifSB0owJL",
        "outputId": "d2a749b6-9569-407f-879a-9ae31099105b"
      },
      "execution_count": 4,
      "outputs": [
        {
          "output_type": "stream",
          "name": "stdout",
          "text": [
            "<class 'pandas.core.frame.DataFrame'>\n",
            "RangeIndex: 1048575 entries, 0 to 1048574\n",
            "Data columns (total 21 columns):\n",
            " #   Column                Non-Null Count    Dtype \n",
            "---  ------                --------------    ----- \n",
            " 0   USMER                 1048575 non-null  int64 \n",
            " 1   MEDICAL_UNIT          1048575 non-null  int64 \n",
            " 2   SEX                   1048575 non-null  int64 \n",
            " 3   PATIENT_TYPE          1048575 non-null  int64 \n",
            " 4   DATE_DIED             1048575 non-null  object\n",
            " 5   INTUBED               1048575 non-null  int64 \n",
            " 6   PNEUMONIA             1048575 non-null  int64 \n",
            " 7   AGE                   1048575 non-null  int64 \n",
            " 8   PREGNANT              1048575 non-null  int64 \n",
            " 9   DIABETES              1048575 non-null  int64 \n",
            " 10  COPD                  1048575 non-null  int64 \n",
            " 11  ASTHMA                1048575 non-null  int64 \n",
            " 12  INMSUPR               1048575 non-null  int64 \n",
            " 13  HIPERTENSION          1048575 non-null  int64 \n",
            " 14  OTHER_DISEASE         1048575 non-null  int64 \n",
            " 15  CARDIOVASCULAR        1048575 non-null  int64 \n",
            " 16  OBESITY               1048575 non-null  int64 \n",
            " 17  RENAL_CHRONIC         1048575 non-null  int64 \n",
            " 18  TOBACCO               1048575 non-null  int64 \n",
            " 19  CLASIFFICATION_FINAL  1048575 non-null  int64 \n",
            " 20  ICU                   1048575 non-null  int64 \n",
            "dtypes: int64(20), object(1)\n",
            "memory usage: 168.0+ MB\n"
          ]
        }
      ]
    },
    {
      "cell_type": "code",
      "source": [
        "covid_dataset = covid_dataset.loc[(covid_dataset.CLASIFFICATION_FINAL < 4)]\n",
        "covid_dataset = covid_dataset.loc[(covid_dataset.SEX == 1) | (covid_dataset.SEX == 2)]\n",
        "covid_dataset = covid_dataset.loc[(covid_dataset.USMER == 1) | (covid_dataset.USMER == 2)]\n",
        "covid_dataset = covid_dataset.loc[(covid_dataset.PATIENT_TYPE == 1) | (covid_dataset.PATIENT_TYPE == 2)]\n",
        "covid_dataset = covid_dataset.loc[(covid_dataset.PNEUMONIA == 1) | (covid_dataset.PNEUMONIA == 2)]\n",
        "covid_dataset = covid_dataset.loc[(covid_dataset.DIABETES == 1) | (covid_dataset.DIABETES == 2)]\n",
        "covid_dataset = covid_dataset.loc[(covid_dataset.COPD == 1) | (covid_dataset.COPD == 2)]\n",
        "covid_dataset = covid_dataset.loc[(covid_dataset.ASTHMA == 1) | (covid_dataset.ASTHMA == 2)]\n",
        "covid_dataset = covid_dataset.loc[(covid_dataset.INMSUPR == 1) | (covid_dataset.INMSUPR == 2)]\n",
        "covid_dataset = covid_dataset.loc[(covid_dataset.HIPERTENSION == 1) | (covid_dataset.HIPERTENSION == 2)]\n",
        "covid_dataset = covid_dataset.loc[(covid_dataset.OTHER_DISEASE == 1) | (covid_dataset.OTHER_DISEASE == 2)]\n",
        "covid_dataset = covid_dataset.loc[(covid_dataset.CARDIOVASCULAR == 1) | (covid_dataset.CARDIOVASCULAR == 2)]\n",
        "covid_dataset = covid_dataset.loc[(covid_dataset.OBESITY == 1) | (covid_dataset.OBESITY == 2)]\n",
        "covid_dataset = covid_dataset.loc[(covid_dataset.RENAL_CHRONIC == 1) | (covid_dataset.RENAL_CHRONIC == 2)]\n",
        "covid_dataset = covid_dataset.loc[(covid_dataset.TOBACCO == 1) | (covid_dataset.TOBACCO == 2)]"
      ],
      "metadata": {
        "id": "hZNww8hrowLv"
      },
      "execution_count": 5,
      "outputs": []
    },
    {
      "cell_type": "code",
      "source": [
        "covid_dataset.SEX = covid_dataset.SEX.apply(lambda x: x if x == 1 else 0)  \n",
        "covid_dataset.USMER = covid_dataset.USMER.apply(lambda x: x if x == 1 else 0)                     # no = 0, yes = 1\n",
        "covid_dataset.PATIENT_TYPE = covid_dataset.PATIENT_TYPE.apply(lambda x: 0 if x == 1 else 1)     \n",
        "covid_dataset.PNEUMONIA = covid_dataset.PNEUMONIA.apply(lambda x: x if x == 1 else 0)           \n",
        "covid_dataset.DIABETES = covid_dataset.DIABETES.apply(lambda x: x if x == 1 else 0)             \n",
        "covid_dataset.COPD = covid_dataset.COPD.apply(lambda x: x if x == 1 else 0)                     \n",
        "covid_dataset.ASTHMA = covid_dataset.ASTHMA.apply(lambda x: x if x == 1 else 0)                 \n",
        "covid_dataset.INMSUPR = covid_dataset.INMSUPR.apply(lambda x: x if x == 1 else 0)               \n",
        "covid_dataset.HIPERTENSION = covid_dataset.HIPERTENSION.apply(lambda x: x if x == 1 else 0)     \n",
        "covid_dataset.OTHER_DISEASE = covid_dataset.OTHER_DISEASE.apply(lambda x: x if x == 1 else -0)  \n",
        "covid_dataset.CARDIOVASCULAR = covid_dataset.CARDIOVASCULAR.apply(lambda x: x if x == 1 else 0) \n",
        "covid_dataset.OBESITY = covid_dataset.OBESITY.apply(lambda x: x if x == 1 else 0)               \n",
        "covid_dataset.RENAL_CHRONIC = covid_dataset.RENAL_CHRONIC.apply(lambda x: x if x == 1 else 0)   \n",
        "covid_dataset.TOBACCO = covid_dataset.TOBACCO.apply(lambda x: x if x == 1 else 0)               \n",
        "covid_dataset.DATE_DIED = covid_dataset.DATE_DIED.apply(lambda x: 0 if x == \"9999-99-99\" else 1)\n",
        "covid_dataset.PREGNANT = covid_dataset.PREGNANT.apply(lambda x: x if x == 1 else 0)           \n",
        "covid_dataset.INTUBED = covid_dataset.INTUBED.apply(lambda x: x if x == 1 else 0)  \n",
        "covid_dataset.ICU = covid_dataset.ICU.apply(lambda x: x if x == 1 else 0) "
      ],
      "metadata": {
        "id": "MgjBxYXWsUbC"
      },
      "execution_count": 8,
      "outputs": []
    },
    {
      "cell_type": "code",
      "source": [
        "covid_dataset['AT_RISK'] = covid_dataset['DATE_DIED'] + covid_dataset['INTUBED'] + covid_dataset['ICU']\n",
        "covid_dataset.AT_RISK = covid_dataset.AT_RISK.apply(lambda x: 1 if x > 0 else 0) \n",
        "\n",
        "# Drop a few columns which are intuitively not longer useful\n",
        "covid_dataset.drop(columns = ['CLASIFFICATION_FINAL', 'INTUBED', 'ICU', 'DATE_DIED'], inplace=True)"
      ],
      "metadata": {
        "id": "qhZslCOFsUf-"
      },
      "execution_count": 9,
      "outputs": []
    },
    {
      "cell_type": "code",
      "source": [
        "print(covid_dataset.info())"
      ],
      "metadata": {
        "colab": {
          "base_uri": "https://localhost:8080/"
        },
        "id": "94MHSonAsUjZ",
        "outputId": "955f0b6f-89a6-4305-8ab1-a7eefab6ea20"
      },
      "execution_count": 10,
      "outputs": [
        {
          "output_type": "stream",
          "name": "stdout",
          "text": [
            "<class 'pandas.core.frame.DataFrame'>\n",
            "Int64Index: 388878 entries, 0 to 1047937\n",
            "Data columns (total 18 columns):\n",
            " #   Column          Non-Null Count   Dtype\n",
            "---  ------          --------------   -----\n",
            " 0   USMER           388878 non-null  int64\n",
            " 1   MEDICAL_UNIT    388878 non-null  int64\n",
            " 2   SEX             388878 non-null  int64\n",
            " 3   PATIENT_TYPE    388878 non-null  int64\n",
            " 4   PNEUMONIA       388878 non-null  int64\n",
            " 5   AGE             388878 non-null  int64\n",
            " 6   PREGNANT        388878 non-null  int64\n",
            " 7   DIABETES        388878 non-null  int64\n",
            " 8   COPD            388878 non-null  int64\n",
            " 9   ASTHMA          388878 non-null  int64\n",
            " 10  INMSUPR         388878 non-null  int64\n",
            " 11  HIPERTENSION    388878 non-null  int64\n",
            " 12  OTHER_DISEASE   388878 non-null  int64\n",
            " 13  CARDIOVASCULAR  388878 non-null  int64\n",
            " 14  OBESITY         388878 non-null  int64\n",
            " 15  RENAL_CHRONIC   388878 non-null  int64\n",
            " 16  TOBACCO         388878 non-null  int64\n",
            " 17  AT_RISK         388878 non-null  int64\n",
            "dtypes: int64(18)\n",
            "memory usage: 56.4 MB\n",
            "None\n"
          ]
        }
      ]
    },
    {
      "cell_type": "code",
      "source": [
        "train, validation = train_test_split(covid_dataset, test_size=0.1, shuffle=True)\n",
        "validation, test = train_test_split(validation, test_size=0.5, shuffle=True)\n",
        "\n",
        "validation_y = validation.AT_RISK.to_numpy()\n",
        "validation_x = validation.drop(columns = ['AT_RISK']).to_numpy()\n",
        "\n",
        "test_y = test.AT_RISK.to_numpy()\n",
        "test_x = test.drop(columns = ['AT_RISK']).to_numpy()"
      ],
      "metadata": {
        "id": "rNovF4SJsUmO"
      },
      "execution_count": 14,
      "outputs": []
    },
    {
      "cell_type": "code",
      "source": [
        "train_y = train.AT_RISK.to_numpy()\n",
        "train_x = train.drop(columns = ['AT_RISK']).to_numpy()"
      ],
      "metadata": {
        "id": "SiwUPEoBwgQw"
      },
      "execution_count": 22,
      "outputs": []
    },
    {
      "cell_type": "code",
      "source": [
        "heuristics = [\"entropy\", \"gini\"]\n",
        "max_depth = [5, 11, 13, 17]\n",
        "rf_fmeasures = {}\n",
        "rf_best_result = 0\n",
        "for d in max_depth:\n",
        "    rf_fmeasures[d] = np.zeros(len(heuristics))\n",
        "    for (i, heuristic) in enumerate(heuristics):\n",
        "        # create a Random Forest classifier instance and compute the prediction\n",
        "        rf_classifier = RandomForestClassifier(n_estimators=100, \n",
        "                                               criterion=heuristic, \n",
        "                                               max_depth=d,  \n",
        "                                               class_weight='balanced')\n",
        "        rf_classifier.fit(train_x, train_y)\n",
        "        y_pred = rf_classifier.predict(validation_x)\n",
        "\n",
        "        # calculate F-measures and save best model\n",
        "        rf_fmeasures[d][i] = get_Fmeasure(y_pred, validation_y)\n",
        "        if rf_fmeasures[d][i] > rf_best_result:\n",
        "            rf_best_result = rf_fmeasures[d][i]\n",
        "            rf_best_model = rf_classifier "
      ],
      "metadata": {
        "id": "f-Jl8zf_wgWg"
      },
      "execution_count": 23,
      "outputs": []
    },
    {
      "cell_type": "code",
      "source": [
        "l1, l2 = [], []\n",
        "for k in rf_fmeasures.keys():\n",
        "    fmeasures = rf_fmeasures[k]\n",
        "    plt.scatter([k] * len(fmeasures), fmeasures)\n",
        "    l1.append(rf_fmeasures[k][0])\n",
        "    l2.append(rf_fmeasures[k][1])\n",
        "\n",
        "# create line for each  models\n",
        "plt.errorbar(max_depth, l1, label ='id3')\n",
        "plt.errorbar(max_depth, l2, label ='gini')\n",
        "plt.legend(loc ='lower right')\n",
        "plt.title('Random Forest values comparison')\n",
        "plt.xlabel('Tree Depth')\n",
        "plt.ylabel('F-Measure')\n",
        "plt.ylim(0.655, 0.68)\n",
        "plt.show()"
      ],
      "metadata": {
        "colab": {
          "base_uri": "https://localhost:8080/",
          "height": 295
        },
        "id": "cUCGJ8xJ52A_",
        "outputId": "7e056777-7de9-49a8-a1f5-c5299ffa108e"
      },
      "execution_count": 24,
      "outputs": [
        {
          "output_type": "display_data",
          "data": {
            "text/plain": [
              "<Figure size 432x288 with 1 Axes>"
            ],
            "image/png": "[encoded data removed]"
          },
          "metadata": {
            "needs_background": "light"
          }
        }
      ]
    }
  ]
}